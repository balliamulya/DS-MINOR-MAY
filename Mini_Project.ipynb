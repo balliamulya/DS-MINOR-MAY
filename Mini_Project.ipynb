{
  "nbformat": 4,
  "nbformat_minor": 0,
  "metadata": {
    "colab": {
      "name": "Mini Project.ipynb",
      "provenance": [],
      "authorship_tag": "ABX9TyPSMZrcLYWUUr/JyTaYsSFq",
      "include_colab_link": true
    },
    "kernelspec": {
      "name": "python3",
      "display_name": "Python 3"
    },
    "language_info": {
      "name": "python"
    }
  },
  "cells": [
    {
      "cell_type": "markdown",
      "metadata": {
        "id": "view-in-github",
        "colab_type": "text"
      },
      "source": [
        "<a href=\"https://colab.research.google.com/github/balliamulya/DS-MINOR-MAY/blob/main/Mini_Project.ipynb\" target=\"_parent\"><img src=\"https://colab.research.google.com/assets/colab-badge.svg\" alt=\"Open In Colab\"/></a>"
      ]
    },
    {
      "cell_type": "code",
      "metadata": {
        "colab": {
          "base_uri": "https://localhost:8080/"
        },
        "id": "T6GgpOitezRc",
        "outputId": "8c2e9d76-f459-46ea-8f7f-d2854d8736c6"
      },
      "source": [
        "!pip install ipython-autotime\n",
        "%load_ext autotime"
      ],
      "execution_count": 1,
      "outputs": [
        {
          "output_type": "stream",
          "text": [
            "Collecting ipython-autotime\n",
            "  Downloading https://files.pythonhosted.org/packages/b4/c9/b413a24f759641bc27ef98c144b590023c8038dfb8a3f09e713e9dff12c1/ipython_autotime-0.3.1-py2.py3-none-any.whl\n",
            "Requirement already satisfied: ipython in /usr/local/lib/python3.7/dist-packages (from ipython-autotime) (5.5.0)\n",
            "Requirement already satisfied: setuptools>=18.5 in /usr/local/lib/python3.7/dist-packages (from ipython->ipython-autotime) (57.0.0)\n",
            "Requirement already satisfied: pickleshare in /usr/local/lib/python3.7/dist-packages (from ipython->ipython-autotime) (0.7.5)\n",
            "Requirement already satisfied: traitlets>=4.2 in /usr/local/lib/python3.7/dist-packages (from ipython->ipython-autotime) (5.0.5)\n",
            "Requirement already satisfied: pexpect; sys_platform != \"win32\" in /usr/local/lib/python3.7/dist-packages (from ipython->ipython-autotime) (4.8.0)\n",
            "Requirement already satisfied: decorator in /usr/local/lib/python3.7/dist-packages (from ipython->ipython-autotime) (4.4.2)\n",
            "Requirement already satisfied: simplegeneric>0.8 in /usr/local/lib/python3.7/dist-packages (from ipython->ipython-autotime) (0.8.1)\n",
            "Requirement already satisfied: prompt-toolkit<2.0.0,>=1.0.4 in /usr/local/lib/python3.7/dist-packages (from ipython->ipython-autotime) (1.0.18)\n",
            "Requirement already satisfied: pygments in /usr/local/lib/python3.7/dist-packages (from ipython->ipython-autotime) (2.6.1)\n",
            "Requirement already satisfied: ipython-genutils in /usr/local/lib/python3.7/dist-packages (from traitlets>=4.2->ipython->ipython-autotime) (0.2.0)\n",
            "Requirement already satisfied: ptyprocess>=0.5 in /usr/local/lib/python3.7/dist-packages (from pexpect; sys_platform != \"win32\"->ipython->ipython-autotime) (0.7.0)\n",
            "Requirement already satisfied: six>=1.9.0 in /usr/local/lib/python3.7/dist-packages (from prompt-toolkit<2.0.0,>=1.0.4->ipython->ipython-autotime) (1.15.0)\n",
            "Requirement already satisfied: wcwidth in /usr/local/lib/python3.7/dist-packages (from prompt-toolkit<2.0.0,>=1.0.4->ipython->ipython-autotime) (0.2.5)\n",
            "Installing collected packages: ipython-autotime\n",
            "Successfully installed ipython-autotime-0.3.1\n",
            "time: 2.11 ms (started: 2021-06-24 12:40:06 +00:00)\n"
          ],
          "name": "stdout"
        }
      ]
    },
    {
      "cell_type": "code",
      "metadata": {
        "colab": {
          "base_uri": "https://localhost:8080/"
        },
        "id": "9kuWkALbaN43",
        "outputId": "71763748-4d0f-4afb-8390-3f9fa775437e"
      },
      "source": [
        "!pip install bing-image-downloader"
      ],
      "execution_count": 2,
      "outputs": [
        {
          "output_type": "stream",
          "text": [
            "Collecting bing-image-downloader\n",
            "  Downloading https://files.pythonhosted.org/packages/c2/04/1872a689a30036aa0b81ac9fca124a7413cad71fdab714f727cf1a34b671/bing_image_downloader-1.1.1-py3-none-any.whl\n",
            "Installing collected packages: bing-image-downloader\n",
            "Successfully installed bing-image-downloader-1.1.1\n",
            "time: 3.44 s (started: 2021-06-24 12:40:09 +00:00)\n"
          ],
          "name": "stdout"
        }
      ]
    },
    {
      "cell_type": "code",
      "metadata": {
        "id": "CaxrHNX0a4sy",
        "colab": {
          "base_uri": "https://localhost:8080/"
        },
        "outputId": "236bc9c9-a194-4ed6-be01-5bfc5347c998"
      },
      "source": [
        "!mkdir images"
      ],
      "execution_count": 3,
      "outputs": [
        {
          "output_type": "stream",
          "text": [
            "time: 116 ms (started: 2021-06-24 12:40:16 +00:00)\n"
          ],
          "name": "stdout"
        }
      ]
    },
    {
      "cell_type": "code",
      "metadata": {
        "colab": {
          "base_uri": "https://localhost:8080/"
        },
        "id": "49XBrUBcbDn_",
        "outputId": "9fa57793-f32f-4eb3-aca7-8c680d5eb733"
      },
      "source": [
        "from bing_image_downloader import downloader\n",
        "downloader.download(\"pretty sunflower\",limit=30,output_dir='images',adult_filter_off=True)"
      ],
      "execution_count": 4,
      "outputs": [
        {
          "output_type": "stream",
          "text": [
            "[%] Downloading Images to /content/images/pretty sunflower\n",
            "\n",
            "\n",
            "[!!]Indexing page: 1\n",
            "\n",
            "[%] Indexed 30 Images on Page 1.\n",
            "\n",
            "===============================================\n",
            "\n",
            "[%] Downloading Image #1 from https://pixfeeds.com/images/flowers/sunflowers/1280-506587098-beautiful-sunflower.jpg\n",
            "[%] File Downloaded !\n",
            "\n",
            "[%] Downloading Image #2 from https://i.pinimg.com/originals/75/ad/3f/75ad3f4512a7cfd54b272a2e6ee73c46.jpg\n",
            "[%] File Downloaded !\n",
            "\n",
            "[%] Downloading Image #3 from https://i.pinimg.com/originals/91/39/52/913952e8f81e8faa94481bda88e4dfba.jpg\n",
            "[%] File Downloaded !\n",
            "\n",
            "[%] Downloading Image #4 from https://i.pinimg.com/originals/69/30/e0/6930e0d5364f2eead9591771a7515665.jpg\n",
            "[%] File Downloaded !\n",
            "\n",
            "[%] Downloading Image #5 from https://i.pinimg.com/originals/28/64/0b/28640bb3517270d7670f2ad294ddd6ab.jpg\n",
            "[%] File Downloaded !\n",
            "\n",
            "[%] Downloading Image #6 from https://i.pinimg.com/originals/f7/0d/11/f70d11647628b048be42a5b0df480a8b.jpg\n",
            "[%] File Downloaded !\n",
            "\n",
            "[%] Downloading Image #7 from https://i.pinimg.com/originals/46/1b/32/461b32b654b404395049c70f0a8b687d.jpg\n",
            "[%] File Downloaded !\n",
            "\n",
            "[%] Downloading Image #8 from https://cdn.shopify.com/s/files/1/2461/7623/files/what-is-sunflower-oil.jpg?v=1511997543\n",
            "[%] File Downloaded !\n",
            "\n",
            "[%] Downloading Image #9 from https://i.pinimg.com/originals/99/85/f2/9985f23566590fd95cf65213d07be239.jpg\n",
            "[%] File Downloaded !\n",
            "\n",
            "[%] Downloading Image #10 from https://i.pinimg.com/originals/bc/2a/64/bc2a64a8cb893ff957f557e721ee4efc.jpg\n",
            "[%] File Downloaded !\n",
            "\n",
            "[%] Downloading Image #11 from https://api.time.com/wp-content/uploads/2016/08/sunflowers.jpg\n",
            "[%] File Downloaded !\n",
            "\n",
            "[%] Downloading Image #12 from https://i0.wp.com/howlifestyles.com/wp-content/uploads/2020/06/Sunflowers_20200510.jpg?fit=800%2C1000&amp;ssl=1\n",
            "[%] File Downloaded !\n",
            "\n",
            "[%] Downloading Image #13 from https://i.pinimg.com/originals/0d/e0/d7/0de0d7dffe84b8f5cda7e3e440f22122.jpg\n",
            "[%] File Downloaded !\n",
            "\n",
            "[%] Downloading Image #14 from https://www.stonecirclecoaching.com/wp-content/uploads/2015/09/unexpected-sunflower.jpg\n",
            "[%] File Downloaded !\n",
            "\n",
            "[%] Downloading Image #15 from https://i.pinimg.com/originals/ae/dc/b4/aedcb4cfe5cc804bd93fa7397285ab69.jpg\n",
            "[%] File Downloaded !\n",
            "\n",
            "[%] Downloading Image #16 from https://i.pinimg.com/originals/9e/3d/89/9e3d8929a4ecf4c7702c2f10e27c97c8.jpg\n",
            "[%] File Downloaded !\n",
            "\n",
            "[%] Downloading Image #17 from https://i.pinimg.com/736x/42/cf/c7/42cfc769dc02aced51866694aa9bac9c--sunflowers-sunshine.jpg\n",
            "[%] File Downloaded !\n",
            "\n",
            "[%] Downloading Image #18 from https://i.pinimg.com/736x/84/07/19/84071927dcb8c441b0d8634bfaf86c31--sunflower-fields-sunflowers.jpg\n",
            "[%] File Downloaded !\n",
            "\n",
            "[%] Downloading Image #19 from https://i.pinimg.com/originals/e1/6d/e5/e16de54a8578d5c1c1de42cbc614a1e4.jpg\n",
            "[%] File Downloaded !\n",
            "\n",
            "[%] Downloading Image #20 from https://i.pinimg.com/originals/3f/72/43/3f724320cdf7b8362d54966df15308cc.jpg\n",
            "[%] File Downloaded !\n",
            "\n",
            "[%] Downloading Image #21 from https://i.pinimg.com/736x/24/91/34/24913484791991a13f6b644ab1366f3a--the-sunflower-kansas.jpg\n",
            "[%] File Downloaded !\n",
            "\n",
            "[%] Downloading Image #22 from https://i.pinimg.com/originals/0a/02/7a/0a027a31f226b695d0f01baeb13a7410.jpg\n",
            "[%] File Downloaded !\n",
            "\n",
            "[%] Downloading Image #23 from https://i.pinimg.com/originals/f0/a0/dc/f0a0dc28c43f3347839073cca55eb189.jpg\n",
            "[%] File Downloaded !\n",
            "\n",
            "[%] Downloading Image #24 from https://i.pinimg.com/originals/a9/5d/5f/a95d5fcd3072c306cf93eba0b513715a.jpg\n",
            "[%] File Downloaded !\n",
            "\n",
            "[%] Downloading Image #25 from https://i.pinimg.com/originals/72/0a/2d/720a2d254215ab0ab36d189c1bb52414.jpg\n",
            "[%] File Downloaded !\n",
            "\n",
            "[%] Downloading Image #26 from https://i.pinimg.com/originals/80/6f/da/806fdadf1d6f9bbb070afc730d336e65.jpg\n",
            "[%] File Downloaded !\n",
            "\n",
            "[%] Downloading Image #27 from https://s-media-cache-ak0.pinimg.com/736x/02/64/cf/0264cfbe0f0f81a379b657717cbdfebe.jpg\n",
            "[%] File Downloaded !\n",
            "\n",
            "[%] Downloading Image #28 from https://i.pinimg.com/originals/cd/c5/de/cdc5deaac630ce8a6f1f3ccaabc96a77.jpg\n",
            "[%] File Downloaded !\n",
            "\n",
            "[%] Downloading Image #29 from https://i.pinimg.com/736x/6b/97/ae/6b97ae9fc532684b7362d3f170b95796--sunflower-pictures-flower-power.jpg\n",
            "[%] File Downloaded !\n",
            "\n",
            "[%] Downloading Image #30 from http://earthporm.com/wp-content/uploads/2015/08/big-field-of-sunflowers.png\n",
            "[%] File Downloaded !\n",
            "\n",
            "\n",
            "\n",
            "[%] Done. Downloaded 30 images.\n",
            "===============================================\n",
            "\n",
            "Please show your support here\n",
            "https://www.buymeacoffee.com/gurugaurav\n",
            "\n",
            "===============================================\n",
            "\n",
            "time: 15.6 s (started: 2021-06-24 12:40:20 +00:00)\n"
          ],
          "name": "stdout"
        }
      ]
    },
    {
      "cell_type": "code",
      "metadata": {
        "colab": {
          "base_uri": "https://localhost:8080/"
        },
        "id": "Ojm9muZOc5vo",
        "outputId": "59721438-dd45-43a7-dc2b-14c6176afdf5"
      },
      "source": [
        "from bing_image_downloader import downloader\n",
        "downloader.download(\"ice cream cone\",limit=30,output_dir='images',adult_filter_off=True)"
      ],
      "execution_count": 5,
      "outputs": [
        {
          "output_type": "stream",
          "text": [
            "[%] Downloading Images to /content/images/ice cream cone\n",
            "\n",
            "\n",
            "[!!]Indexing page: 1\n",
            "\n",
            "[%] Indexed 30 Images on Page 1.\n",
            "\n",
            "===============================================\n",
            "\n",
            "[%] Downloading Image #1 from http://graphics8.nytimes.com/images/2013/06/02/magazine/02wmt/02wmt-superJumbo-v3.jpg\n",
            "[%] File Downloaded !\n",
            "\n",
            "[%] Downloading Image #2 from https://americacomesalive.com/i/ice-cream-cone.jpg\n",
            "[%] File Downloaded !\n",
            "\n",
            "[%] Downloading Image #3 from https://www.thespruceeats.com/thmb/3zSpyarxfOBVAZS3CNJYOBGk26s=/3000x1687/smart/filters:no_upscale()/IceCreamConeCupcakesHERO-ef1da5f5b4be42129e420ad1b8088b9b.jpg\n",
            "[%] File Downloaded !\n",
            "\n",
            "[%] Downloading Image #4 from https://img1.southernliving.timeinc.net/sites/default/files/styles/4_3_horizontal_-_1200x900/public/image/2017/07/main/ice-cream-cones.jpg?itok=9I9Q7gKA\n",
            "[%] File Downloaded !\n",
            "\n",
            "[%] Downloading Image #5 from http://www.koshericecream.com/wp-content/uploads/magictoolbox_cache/640ca855e591fa5c6759d336b1ca786b/original/2118662499/41404-24-Pk-Nutty-Cone-D-UPC-0-91404-21150-5.jpg\n",
            "[%] File Downloaded !\n",
            "\n",
            "[%] Downloading Image #6 from https://cdn.ebs.newsner.com/wp-content/uploads/sites/11/2017/09/donutcone.jpg\n",
            "[%] File Downloaded !\n",
            "\n",
            "[%] Downloading Image #7 from https://i.pinimg.com/originals/ac/cd/a9/accda9fedc34771b332db5626406d234.jpg\n",
            "[%] File Downloaded !\n",
            "\n",
            "[%] Downloading Image #8 from http://cdn2.tikkido.com/sites/default/files/patriotic-ice-cream-cones-complete.jpg\n",
            "[%] File Downloaded !\n",
            "\n",
            "[%] Downloading Image #9 from https://i.pinimg.com/originals/ce/f5/94/cef5942a7b71141a834a66a249e0df81.jpg\n",
            "[%] File Downloaded !\n",
            "\n",
            "[%] Downloading Image #10 from https://www.sheknows.com/wp-content/uploads/2018/08/tjyhk2mmmgs6eg1kqsnl.jpeg?w=600\n",
            "[%] File Downloaded !\n",
            "\n",
            "[%] Downloading Image #11 from https://mysunshineroom.com/_Media/dipped-ice-cream-cones-7_med_hr.jpeg\n",
            "[%] File Downloaded !\n",
            "\n",
            "[%] Downloading Image #12 from https://www.sheknows.com/wp-content/uploads/2018/08/cplmqhrwwtn4mosg7ea8.jpeg?w=555\n",
            "[%] File Downloaded !\n",
            "\n",
            "[%] Downloading Image #13 from http://upload.wikimedia.org/wikipedia/commons/d/da/Strawberry_ice_cream_cone_(5076899310).jpg\n",
            "[%] File Downloaded !\n",
            "\n",
            "[%] Downloading Image #14 from http://cdn-image.myrecipes.com/sites/default/files/ginger-peach-ice-cream-cones-ck.jpg\n",
            "[%] File Downloaded !\n",
            "\n",
            "[%] Downloading Image #15 from http://www.imagineoutloud.net/uploads/3/9/7/7/39773846/s432273583225059501_p963_i29_w2560.jpeg\n",
            "[%] File Downloaded !\n",
            "\n",
            "[%] Downloading Image #16 from https://s1.hankr.com/images/i/fd54de35efb746f49063ff1e8b4c5313/Not_Licked_Yet_Ice_Cream_Cone_15.jpg\n",
            "[%] File Downloaded !\n",
            "\n",
            "[%] Downloading Image #17 from http://www.carvelbrentwood.com/images/Straw Hand Dip Cone.jpg\n",
            "[!] Issue getting: http://www.carvelbrentwood.com/images/Straw Hand Dip Cone.jpg\n",
            "[!] Error:: URL can't contain control characters. '/images/Straw Hand Dip Cone.jpg' (found at least ' ')\n",
            "[%] Downloading Image #17 from http://www.imagineoutloud.net/uploads/3/9/7/7/39773846/s432273583225059501_p949_i14_w640.jpeg\n",
            "[%] File Downloaded !\n",
            "\n",
            "[%] Downloading Image #18 from https://americacomesalive.com/i/waffle-cones-getty.jpg\n",
            "[%] File Downloaded !\n",
            "\n",
            "[%] Downloading Image #19 from https://images-gmi-pmc.edge-generalmills.com/63c578bc-0cf7-496b-948a-d6e485ef7018.jpg\n",
            "[%] File Downloaded !\n",
            "\n",
            "[%] Downloading Image #20 from http://img0.etsystatic.com/015/0/5205551/il_570xN.427294972_4pjm.jpg\n",
            "[Error]Invalid image, not saving http://img0.etsystatic.com/015/0/5205551/il_570xN.427294972_4pjm.jpg\n",
            "\n",
            "[!] Issue getting: http://img0.etsystatic.com/015/0/5205551/il_570xN.427294972_4pjm.jpg\n",
            "[!] Error:: Invalid image, not saving http://img0.etsystatic.com/015/0/5205551/il_570xN.427294972_4pjm.jpg\n",
            "\n",
            "[%] Downloading Image #20 from https://www.sheetalicecream.com/wp-content/themes/sheetal/images/cones/American-Nuts.png\n",
            "[%] File Downloaded !\n",
            "\n",
            "[%] Downloading Image #21 from http://www.thethings.com/wp-content/uploads/2016/05/RiceKrispiesTreatCone.jpg\n",
            "[%] File Downloaded !\n",
            "\n",
            "[%] Downloading Image #22 from http://www.thethings.com/wp-content/uploads/2016/05/ice-cream-cone.jpg\n",
            "[%] File Downloaded !\n",
            "\n",
            "[%] Downloading Image #23 from http://www.thethings.com/wp-content/uploads/2016/05/dscf5161.jpg\n",
            "[%] File Downloaded !\n",
            "\n",
            "[%] Downloading Image #24 from https://s-i.huffpost.com/gen/1315999/images/o-ICE-CREAM-CONES-facebook.jpg\n",
            "[%] File Downloaded !\n",
            "\n",
            "[%] Downloading Image #25 from https://i.pinimg.com/originals/22/b1/78/22b1787b85fb0050b9c746269729b3c8.jpg\n",
            "[%] File Downloaded !\n",
            "\n",
            "[%] Downloading Image #26 from http://www.postcoder.com.au/wp-content/uploads/2017/10/DSC_0738.jpg?x94432\n",
            "[%] File Downloaded !\n",
            "\n",
            "[%] Downloading Image #27 from https://i.pinimg.com/originals/e8/4c/af/e84cafe31da4e80a7388dc34cd5fe99d.jpg\n",
            "[%] File Downloaded !\n",
            "\n",
            "[%] Downloading Image #28 from https://i.pinimg.com/originals/e0/1b/78/e01b78bddf8d19e23fe280c4295f5642.jpg\n",
            "[%] File Downloaded !\n",
            "\n",
            "\n",
            "\n",
            "[!!]Indexing page: 2\n",
            "\n",
            "[%] Indexed 35 Images on Page 2.\n",
            "\n",
            "===============================================\n",
            "\n",
            "[%] Downloading Image #29 from http://graphics8.nytimes.com/images/2013/06/02/magazine/02wmt/02wmt-superJumbo-v3.jpg\n",
            "[%] File Downloaded !\n",
            "\n",
            "[%] Downloading Image #30 from https://mysunshineroom.com/_Media/dipped-ice-cream-cones-7_med_hr.jpeg\n",
            "[%] File Downloaded !\n",
            "\n",
            "\n",
            "\n",
            "[%] Done. Downloaded 30 images.\n",
            "===============================================\n",
            "\n",
            "Please show your support here\n",
            "https://www.buymeacoffee.com/gurugaurav\n",
            "\n",
            "===============================================\n",
            "\n",
            "time: 15.2 s (started: 2021-06-24 12:41:24 +00:00)\n"
          ],
          "name": "stdout"
        }
      ]
    },
    {
      "cell_type": "code",
      "metadata": {
        "colab": {
          "base_uri": "https://localhost:8080/"
        },
        "id": "DyoPPllGdqWD",
        "outputId": "25a85430-a454-4739-e437-22c379719763"
      },
      "source": [
        "from bing_image_downloader import downloader\n",
        "downloader.download(\"cars\",limit=30,output_dir='images',adult_filter_off=True)"
      ],
      "execution_count": 6,
      "outputs": [
        {
          "output_type": "stream",
          "text": [
            "[%] Downloading Images to /content/images/cars\n",
            "\n",
            "\n",
            "[!!]Indexing page: 1\n",
            "\n",
            "[%] Indexed 30 Images on Page 1.\n",
            "\n",
            "===============================================\n",
            "\n",
            "[%] Downloading Image #1 from http://www.carbodydesign.com/archive/2009/08/05-sv-9-competizione-images/SV-9-Competizione-4-lg.jpg\n",
            "[%] File Downloaded !\n",
            "\n",
            "[%] Downloading Image #2 from https://i.pinimg.com/736x/73/62/d8/7362d822038afc4386906ce9ab2ce58c.jpg\n",
            "[%] File Downloaded !\n",
            "\n",
            "[%] Downloading Image #3 from https://media.whatcar.com/migration/article_inline/fa3f2b3925370291872ddcf823dd8719749dcae6.jpg\n",
            "[%] File Downloaded !\n",
            "\n",
            "[%] Downloading Image #4 from https://media.whatcar.com/migration/article_inline/992febfeab10d474005c3c45d112d723bcbbae66.jpg\n",
            "[%] File Downloaded !\n",
            "\n",
            "[%] Downloading Image #5 from http://shinecoco.com/wp-content/uploads/2020/04/gear_ghouly.jpg\n",
            "[%] File Downloaded !\n",
            "\n",
            "[%] Downloading Image #6 from https://external-preview.redd.it/pbEfLIYe90hFmJFBXWG8K0oXU4ayUl-6-USZlF7G_qk.jpg?auto=webp&amp;s=b2d9b17a5a84826506058e26ddbaeead84d0761a\n",
            "[!] Issue getting: https://external-preview.redd.it/pbEfLIYe90hFmJFBXWG8K0oXU4ayUl-6-USZlF7G_qk.jpg?auto=webp&amp;s=b2d9b17a5a84826506058e26ddbaeead84d0761a\n",
            "[!] Error:: HTTP Error 403: Forbidden\n",
            "[%] Downloading Image #6 from https://s24990.pcdn.co/wp-content/uploads/2019/08/2020-cars1.jpg\n",
            "[%] File Downloaded !\n",
            "\n",
            "[%] Downloading Image #7 from https://cdn.motor1.com/images/mgl/8gJ93/s3/amc-amx-the-first-true-sports-car-of-the-1960s.jpg\n",
            "[%] File Downloaded !\n",
            "\n",
            "[%] Downloading Image #8 from https://media.whatcar.com/wc-image/2019-04/true_mpg_best_and_worst_hybrid_cars.jpg\n",
            "[%] File Downloaded !\n",
            "\n",
            "[%] Downloading Image #9 from https://i.pinimg.com/originals/df/6e/57/df6e57b2d6050b54f683c11d271b1803.jpg\n",
            "[%] File Downloaded !\n",
            "\n",
            "[%] Downloading Image #10 from https://i.pinimg.com/originals/4b/cc/60/4bcc60ef5497f1ac8fddb4b88dc31b5f.jpg\n",
            "[%] File Downloaded !\n",
            "\n",
            "[%] Downloading Image #11 from https://i.ytimg.com/vi/2GFYiV4bmFo/maxresdefault.jpg\n",
            "[%] File Downloaded !\n",
            "\n",
            "[%] Downloading Image #12 from http://jaikrishnaamaruti.com/uploads/truevalue_cars/0_13-08-2020_13-37-04.jpeg\n",
            "[%] File Downloaded !\n",
            "\n",
            "[%] Downloading Image #13 from http://finallylost.com/wp-content/uploads/2017/01/the-cars-in-dubai-is-the-rumor-true-06.jpg\n",
            "[%] File Downloaded !\n",
            "\n",
            "[%] Downloading Image #14 from https://media.whatcar.com/migration/article_inline/31e233fabca887757aba0bb56028fce65792efc4.jpg\n",
            "[%] File Downloaded !\n",
            "\n",
            "[%] Downloading Image #15 from https://static1.thethingsimages.com/wordpress/wp-content/uploads/2020/03/14-Rare-Muscle-Cars-Only-True-Gearheads-Will-Recognize-1.jpg\n",
            "[Error]Invalid image, not saving https://static1.thethingsimages.com/wordpress/wp-content/uploads/2020/03/14-Rare-Muscle-Cars-Only-True-Gearheads-Will-Recognize-1.jpg\n",
            "\n",
            "[!] Issue getting: https://static1.thethingsimages.com/wordpress/wp-content/uploads/2020/03/14-Rare-Muscle-Cars-Only-True-Gearheads-Will-Recognize-1.jpg\n",
            "[!] Error:: Invalid image, not saving https://static1.thethingsimages.com/wordpress/wp-content/uploads/2020/03/14-Rare-Muscle-Cars-Only-True-Gearheads-Will-Recognize-1.jpg\n",
            "\n",
            "[%] Downloading Image #15 from https://i1.wp.com/automothink.com/assets/2020/03/Renault-Trezor.jpg?fit=1280%2C720&amp;ssl=1\n",
            "[%] File Downloaded !\n",
            "\n",
            "[%] Downloading Image #16 from https://i.pinimg.com/originals/d2/ad/d6/d2add6400c95271ff439dc3f4c4f84f3.jpg\n",
            "[%] File Downloaded !\n",
            "\n",
            "[%] Downloading Image #17 from http://farm8.staticflickr.com/7337/10414103015_ceb1b3609e_z.jpg\n",
            "[%] File Downloaded !\n",
            "\n",
            "[%] Downloading Image #18 from https://i.pinimg.com/originals/e8/5a/6c/e85a6cff5b06a5e2a0b94c0f539789a3.jpg\n",
            "[%] File Downloaded !\n",
            "\n",
            "[%] Downloading Image #19 from https://media.whatcar.com/wc-image/2019-06/2-ford-st-diesel-1082018.jpg\n",
            "[%] File Downloaded !\n",
            "\n",
            "[%] Downloading Image #20 from https://media.whatcar.com/wc-image/2020-02/true_mpg_best_and_worst_hybrid_cars.jpg\n",
            "[%] File Downloaded !\n",
            "\n",
            "[%] Downloading Image #21 from https://data.1freewallpapers.com/download/true-blue-chevelle.jpg\n",
            "[%] File Downloaded !\n",
            "\n",
            "[%] Downloading Image #22 from https://i.pinimg.com/originals/ed/60/f1/ed60f18513d8cebfdeddb93e9b72020d.jpg\n",
            "[%] File Downloaded !\n",
            "\n",
            "[%] Downloading Image #23 from https://i.pinimg.com/originals/e7/2f/c1/e72fc1e195456b1e7124a470f4abdfe1.jpg\n",
            "[%] File Downloaded !\n",
            "\n",
            "[%] Downloading Image #24 from https://nhev.in/wp-content/uploads/2020/01/1x-1-1040x693.jpg\n",
            "[%] File Downloaded !\n",
            "\n",
            "[%] Downloading Image #25 from http://jaikrishnaamaruti.com/uploads/truevalue_cars/0_27-01-2018_16-03-53.jpg\n",
            "[%] File Downloaded !\n",
            "\n",
            "[%] Downloading Image #26 from https://shinecoco.com/wp-content/uploads/2020/04/the_young_ruler.jpg\n",
            "[%] File Downloaded !\n",
            "\n",
            "[%] Downloading Image #27 from https://media.whatcar.com/wc-image/2020-01/executive_cars_-_true_mpg.jpg\n",
            "[%] File Downloaded !\n",
            "\n",
            "[%] Downloading Image #28 from https://images.cdn.circlesix.co/image/2/1200/630/5/uploads/posts/2017/03/8f85892a342ffe6757f17aee21e91078.jpg\n",
            "[Error]Invalid image, not saving https://images.cdn.circlesix.co/image/2/1200/630/5/uploads/posts/2017/03/8f85892a342ffe6757f17aee21e91078.jpg\n",
            "\n",
            "[!] Issue getting: https://images.cdn.circlesix.co/image/2/1200/630/5/uploads/posts/2017/03/8f85892a342ffe6757f17aee21e91078.jpg\n",
            "[!] Error:: Invalid image, not saving https://images.cdn.circlesix.co/image/2/1200/630/5/uploads/posts/2017/03/8f85892a342ffe6757f17aee21e91078.jpg\n",
            "\n",
            "\n",
            "\n",
            "[!!]Indexing page: 2\n",
            "\n",
            "[%] Indexed 35 Images on Page 2.\n",
            "\n",
            "===============================================\n",
            "\n",
            "[%] Downloading Image #28 from http://www.carbodydesign.com/archive/2009/08/05-sv-9-competizione-images/SV-9-Competizione-4-lg.jpg\n",
            "[%] File Downloaded !\n",
            "\n",
            "[%] Downloading Image #29 from https://i.pinimg.com/736x/73/62/d8/7362d822038afc4386906ce9ab2ce58c.jpg\n",
            "[%] File Downloaded !\n",
            "\n",
            "[%] Downloading Image #30 from https://media.whatcar.com/migration/article_inline/fa3f2b3925370291872ddcf823dd8719749dcae6.jpg\n",
            "[%] File Downloaded !\n",
            "\n",
            "\n",
            "\n",
            "[%] Done. Downloaded 30 images.\n",
            "===============================================\n",
            "\n",
            "Please show your support here\n",
            "https://www.buymeacoffee.com/gurugaurav\n",
            "\n",
            "===============================================\n",
            "\n",
            "time: 21.2 s (started: 2021-06-24 12:42:14 +00:00)\n"
          ],
          "name": "stdout"
        }
      ]
    },
    {
      "cell_type": "code",
      "metadata": {
        "colab": {
          "base_uri": "https://localhost:8080/"
        },
        "id": "PXO8Hw77g59q",
        "outputId": "f6e5078c-f3e7-4f9e-dc42-9311498ee9c6"
      },
      "source": [
        "import numpy as np\n",
        "\n",
        "a = np.array([[1,2,3,4,5],[4,5,6,7,8]])\n",
        "a.ndim"
      ],
      "execution_count": 7,
      "outputs": [
        {
          "output_type": "execute_result",
          "data": {
            "text/plain": [
              "2"
            ]
          },
          "metadata": {
            "tags": []
          },
          "execution_count": 7
        },
        {
          "output_type": "stream",
          "text": [
            "time: 13 ms (started: 2021-06-24 12:42:58 +00:00)\n"
          ],
          "name": "stdout"
        }
      ]
    },
    {
      "cell_type": "code",
      "metadata": {
        "colab": {
          "base_uri": "https://localhost:8080/"
        },
        "id": "wc6H2sDohUvu",
        "outputId": "312de4d5-fcc1-43fd-cb24-a678ab6fbdf8"
      },
      "source": [
        "a.flatten()"
      ],
      "execution_count": 8,
      "outputs": [
        {
          "output_type": "execute_result",
          "data": {
            "text/plain": [
              "array([1, 2, 3, 4, 5, 4, 5, 6, 7, 8])"
            ]
          },
          "metadata": {
            "tags": []
          },
          "execution_count": 8
        },
        {
          "output_type": "stream",
          "text": [
            "time: 10.2 ms (started: 2021-06-24 12:43:01 +00:00)\n"
          ],
          "name": "stdout"
        }
      ]
    },
    {
      "cell_type": "code",
      "metadata": {
        "colab": {
          "base_uri": "https://localhost:8080/"
        },
        "id": "gNyVBIX_eeEe",
        "outputId": "e756b1d0-5fa4-474b-e4dc-054ef6a3aeac"
      },
      "source": [
        "# Preprocessing\n",
        "# 1. Resize\n",
        "# 2. Flatten\n",
        "\n",
        "import os\n",
        "import matplotlib.pyplot as plt\n",
        "import numpy as np\n",
        "from skimage.io import imread\n",
        "from skimage.transform import resize\n",
        "\n",
        "target = []\n",
        "images = []\n",
        "flat_data = []\n",
        "\n",
        "DATADIR = '/content/images'\n",
        "CATEGORIES = ['pretty sunflower','ice cream cone','cars']\n",
        "\n",
        "for category in CATEGORIES:\n",
        "  class_num = CATEGORIES.index(category)\n",
        "  path = os.path.join(DATADIR,category)\n",
        "  for img in os.listdir(path):\n",
        "    img_array = imread(os.path.join(path,img))\n",
        "    #print(img_array.shape)\n",
        "    #plt.imshow(img_array)\n",
        "    img_resized = resize(img_array,(150,150,3))\n",
        "    flat_data.append(img_resized.flatten())\n",
        "    images.append(img_resized)\n",
        "    target.append(class_num)\n",
        "\n",
        "flat_data = np.array(flat_data)\n",
        "target = np.array(target)\n",
        "images = np.array(images)   "
      ],
      "execution_count": 9,
      "outputs": [
        {
          "output_type": "stream",
          "text": [
            "time: 1min 13s (started: 2021-06-24 12:50:41 +00:00)\n"
          ],
          "name": "stdout"
        }
      ]
    },
    {
      "cell_type": "code",
      "metadata": {
        "colab": {
          "base_uri": "https://localhost:8080/"
        },
        "id": "aU6pFdzridfr",
        "outputId": "ecde48fd-86d2-4151-aa9e-fc89e8050ccd"
      },
      "source": [
        "len(flat_data[0])"
      ],
      "execution_count": 10,
      "outputs": [
        {
          "output_type": "execute_result",
          "data": {
            "text/plain": [
              "67500"
            ]
          },
          "metadata": {
            "tags": []
          },
          "execution_count": 10
        },
        {
          "output_type": "stream",
          "text": [
            "time: 5.13 ms (started: 2021-06-24 12:52:02 +00:00)\n"
          ],
          "name": "stdout"
        }
      ]
    },
    {
      "cell_type": "code",
      "metadata": {
        "colab": {
          "base_uri": "https://localhost:8080/"
        },
        "id": "w3bAnFpmnsh0",
        "outputId": "6106fdff-b682-429b-9179-c1a1a3d192ca"
      },
      "source": [
        "150*150*3"
      ],
      "execution_count": 11,
      "outputs": [
        {
          "output_type": "execute_result",
          "data": {
            "text/plain": [
              "67500"
            ]
          },
          "metadata": {
            "tags": []
          },
          "execution_count": 11
        },
        {
          "output_type": "stream",
          "text": [
            "time: 4.7 ms (started: 2021-06-24 12:52:06 +00:00)\n"
          ],
          "name": "stdout"
        }
      ]
    },
    {
      "cell_type": "code",
      "metadata": {
        "colab": {
          "base_uri": "https://localhost:8080/"
        },
        "id": "F7v-jo0fn8cJ",
        "outputId": "c839bda7-0a7f-49a0-9171-b51e78b3882a"
      },
      "source": [
        "target"
      ],
      "execution_count": 12,
      "outputs": [
        {
          "output_type": "execute_result",
          "data": {
            "text/plain": [
              "array([0, 0, 0, 0, 0, 0, 0, 0, 0, 0, 0, 0, 0, 0, 0, 0, 0, 0, 0, 0, 0, 0,\n",
              "       0, 0, 0, 0, 0, 0, 0, 0, 1, 1, 1, 1, 1, 1, 1, 1, 1, 1, 1, 1, 1, 1,\n",
              "       1, 1, 1, 1, 1, 1, 1, 1, 1, 1, 1, 1, 1, 1, 1, 1, 2, 2, 2, 2, 2, 2,\n",
              "       2, 2, 2, 2, 2, 2, 2, 2, 2, 2, 2, 2, 2, 2, 2, 2, 2, 2, 2, 2, 2, 2,\n",
              "       2, 2])"
            ]
          },
          "metadata": {
            "tags": []
          },
          "execution_count": 12
        },
        {
          "output_type": "stream",
          "text": [
            "time: 5.91 ms (started: 2021-06-24 12:52:09 +00:00)\n"
          ],
          "name": "stdout"
        }
      ]
    },
    {
      "cell_type": "code",
      "metadata": {
        "colab": {
          "base_uri": "https://localhost:8080/",
          "height": 300
        },
        "id": "__WvwvQZoQ3Z",
        "outputId": "16807b63-6e46-4a61-d29b-30d8fe537e54"
      },
      "source": [
        "unique,count = np.unique(target,return_counts=True)\n",
        "plt.bar(CATEGORIES,count)"
      ],
      "execution_count": 13,
      "outputs": [
        {
          "output_type": "execute_result",
          "data": {
            "text/plain": [
              "<BarContainer object of 3 artists>"
            ]
          },
          "metadata": {
            "tags": []
          },
          "execution_count": 13
        },
        {
          "output_type": "display_data",
          "data": {
            "image/png": "[encoded data removed]",
            "text/plain": [
              "<Figure size 432x288 with 1 Axes>"
            ]
          },
          "metadata": {
            "tags": [],
            "needs_background": "light"
          }
        },
        {
          "output_type": "stream",
          "text": [
            "time: 213 ms (started: 2021-06-24 12:52:13 +00:00)\n"
          ],
          "name": "stdout"
        }
      ]
    },
    {
      "cell_type": "code",
      "metadata": {
        "colab": {
          "base_uri": "https://localhost:8080/"
        },
        "id": "B1FyT3Loof_m",
        "outputId": "4e7f02c3-4e98-4718-a7ac-e219f0802844"
      },
      "source": [
        "# Split data into Training and testing\n",
        "from sklearn.model_selection import train_test_split\n",
        "x_train,x_test,y_train,y_test = train_test_split(flat_data,target,test_size=0.3,random_state=107)"
      ],
      "execution_count": 14,
      "outputs": [
        {
          "output_type": "stream",
          "text": [
            "time: 193 ms (started: 2021-06-24 12:52:18 +00:00)\n"
          ],
          "name": "stdout"
        }
      ]
    },
    {
      "cell_type": "code",
      "metadata": {
        "colab": {
          "base_uri": "https://localhost:8080/"
        },
        "id": "n1wi7cXRqOuN",
        "outputId": "5d31d864-84a8-4c9e-bdff-24da7ba37d6b"
      },
      "source": [
        "from sklearn.model_selection import GridSearchCV\n",
        "from sklearn import svm\n",
        "param_grid = [\n",
        "              {'C':[1,10,100,1000],'kernel':['linear']},\n",
        "              {'C':[1,10,100,1000],'gamma':[0.001,0.0001],'kernel':['rbf']},\n",
        "]\n",
        "\n",
        "svc = svm.SVC(probability=True)\n",
        "clf = GridSearchCV(svc,param_grid)\n",
        "clf.fit(x_train,y_train)"
      ],
      "execution_count": 15,
      "outputs": [
        {
          "output_type": "execute_result",
          "data": {
            "text/plain": [
              "GridSearchCV(cv=None, error_score=nan,\n",
              "             estimator=SVC(C=1.0, break_ties=False, cache_size=200,\n",
              "                           class_weight=None, coef0=0.0,\n",
              "                           decision_function_shape='ovr', degree=3,\n",
              "                           gamma='scale', kernel='rbf', max_iter=-1,\n",
              "                           probability=True, random_state=None, shrinking=True,\n",
              "                           tol=0.001, verbose=False),\n",
              "             iid='deprecated', n_jobs=None,\n",
              "             param_grid=[{'C': [1, 10, 100, 1000], 'kernel': ['linear']},\n",
              "                         {'C': [1, 10, 100, 1000], 'gamma': [0.001, 0.0001],\n",
              "                          'kernel': ['rbf']}],\n",
              "             pre_dispatch='2*n_jobs', refit=True, return_train_score=False,\n",
              "             scoring=None, verbose=0)"
            ]
          },
          "metadata": {
            "tags": []
          },
          "execution_count": 15
        },
        {
          "output_type": "stream",
          "text": [
            "time: 1min 26s (started: 2021-06-24 12:52:21 +00:00)\n"
          ],
          "name": "stdout"
        }
      ]
    },
    {
      "cell_type": "code",
      "metadata": {
        "colab": {
          "base_uri": "https://localhost:8080/"
        },
        "id": "Yr6wjJV1t_hh",
        "outputId": "f22692fb-4c9a-48bb-f0f8-ad80397d2563"
      },
      "source": [
        "y_pred = clf.predict(x_test)\n",
        "y_pred"
      ],
      "execution_count": 16,
      "outputs": [
        {
          "output_type": "execute_result",
          "data": {
            "text/plain": [
              "array([1, 0, 0, 1, 1, 1, 0, 0, 0, 1, 0, 1, 2, 2, 2, 2, 2, 2, 1, 1, 2, 2,\n",
              "       1, 2, 0, 2, 2])"
            ]
          },
          "metadata": {
            "tags": []
          },
          "execution_count": 16
        },
        {
          "output_type": "stream",
          "text": [
            "time: 131 ms (started: 2021-06-24 12:54:23 +00:00)\n"
          ],
          "name": "stdout"
        }
      ]
    },
    {
      "cell_type": "code",
      "metadata": {
        "colab": {
          "base_uri": "https://localhost:8080/"
        },
        "id": "qlZXYXd4vjUX",
        "outputId": "85000388-b435-43d5-d26b-5b7e4ba6361d"
      },
      "source": [
        "y_test"
      ],
      "execution_count": 17,
      "outputs": [
        {
          "output_type": "execute_result",
          "data": {
            "text/plain": [
              "array([1, 0, 0, 1, 1, 2, 0, 0, 0, 2, 0, 1, 2, 0, 1, 2, 2, 2, 1, 1, 2, 1,\n",
              "       1, 2, 0, 2, 1])"
            ]
          },
          "metadata": {
            "tags": []
          },
          "execution_count": 17
        },
        {
          "output_type": "stream",
          "text": [
            "time: 5.95 ms (started: 2021-06-24 12:54:26 +00:00)\n"
          ],
          "name": "stdout"
        }
      ]
    },
    {
      "cell_type": "code",
      "metadata": {
        "colab": {
          "base_uri": "https://localhost:8080/"
        },
        "id": "E2v8K9qpvmaw",
        "outputId": "240a5554-f361-4058-8c5f-9ee21192c422"
      },
      "source": [
        "from sklearn.metrics import accuracy_score,confusion_matrix"
      ],
      "execution_count": 18,
      "outputs": [
        {
          "output_type": "stream",
          "text": [
            "time: 1.09 ms (started: 2021-06-24 12:54:29 +00:00)\n"
          ],
          "name": "stdout"
        }
      ]
    },
    {
      "cell_type": "code",
      "metadata": {
        "colab": {
          "base_uri": "https://localhost:8080/"
        },
        "id": "2Abb-8ubv5b3",
        "outputId": "e991e5db-b32e-4095-886c-dd69f98e0618"
      },
      "source": [
        "accuracy_score(y_pred,y_test)"
      ],
      "execution_count": 19,
      "outputs": [
        {
          "output_type": "execute_result",
          "data": {
            "text/plain": [
              "0.7777777777777778"
            ]
          },
          "metadata": {
            "tags": []
          },
          "execution_count": 19
        },
        {
          "output_type": "stream",
          "text": [
            "time: 4.98 ms (started: 2021-06-24 12:54:32 +00:00)\n"
          ],
          "name": "stdout"
        }
      ]
    },
    {
      "cell_type": "code",
      "metadata": {
        "colab": {
          "base_uri": "https://localhost:8080/"
        },
        "id": "s2YzM1WmwDva",
        "outputId": "79becaa9-1d8e-4262-84fa-993a294ff3ec"
      },
      "source": [
        "confusion_matrix(y_pred,y_test)"
      ],
      "execution_count": 20,
      "outputs": [
        {
          "output_type": "execute_result",
          "data": {
            "text/plain": [
              "array([[7, 0, 0],\n",
              "       [0, 7, 2],\n",
              "       [1, 3, 7]])"
            ]
          },
          "metadata": {
            "tags": []
          },
          "execution_count": 20
        },
        {
          "output_type": "stream",
          "text": [
            "time: 5.86 ms (started: 2021-06-24 12:54:34 +00:00)\n"
          ],
          "name": "stdout"
        }
      ]
    },
    {
      "cell_type": "code",
      "metadata": {
        "colab": {
          "base_uri": "https://localhost:8080/"
        },
        "id": "hbjd_7AKwT0I",
        "outputId": "dc07aa10-bc4e-4e4c-c523-4e6ddfddf2c2"
      },
      "source": [
        "# Save the model using Pickle library\n",
        "import pickle\n",
        "pickle.dump(clf,open('img_model.p','wb'))"
      ],
      "execution_count": 21,
      "outputs": [
        {
          "output_type": "stream",
          "text": [
            "time: 41.2 ms (started: 2021-06-24 12:54:47 +00:00)\n"
          ],
          "name": "stdout"
        }
      ]
    },
    {
      "cell_type": "code",
      "metadata": {
        "colab": {
          "base_uri": "https://localhost:8080/"
        },
        "id": "HhgV6veWxViv",
        "outputId": "092095c6-c780-4a02-fd4c-1d7cf8b866a2"
      },
      "source": [
        "model = pickle.load(open('img_model.p','rb'))"
      ],
      "execution_count": 22,
      "outputs": [
        {
          "output_type": "stream",
          "text": [
            "time: 24.4 ms (started: 2021-06-24 12:54:51 +00:00)\n"
          ],
          "name": "stdout"
        }
      ]
    },
    {
      "cell_type": "code",
      "metadata": {
        "colab": {
          "base_uri": "https://localhost:8080/",
          "height": 339
        },
        "id": "fG-cwHRfx8hn",
        "outputId": "d6918ebe-51a5-4e7a-8807-231677395fe4"
      },
      "source": [
        "# Testing a brand new Image\n",
        "flat_data = []\n",
        "url = input('Enter your URL')\n",
        "img = imread(url)\n",
        "img_resized = resize(img,(150,150,3))\n",
        "flat_data.append(img_resized.flatten())\n",
        "flat_data = np.array(flat_data)\n",
        "print(img.shape)\n",
        "plt.imshow(img_resized)\n",
        "y_out = model.predict(flat_data)\n",
        "y_out = CATEGORIES[y_out[0]]\n",
        "print(f' PREDICTED OUTPUT: {y_out}')"
      ],
      "execution_count": 27,
      "outputs": [
        {
          "output_type": "stream",
          "text": [
            "Enter your URLhttps://cdn.motor1.com/images/mgl/rPXnr/s1/best-cars-lead.jpg\n",
            "(1080, 1920, 3)\n",
            " PREDICTED OUTPUT: cars\n"
          ],
          "name": "stdout"
        },
        {
          "output_type": "display_data",
          "data": {
            "image/png": "[encoded data removed]",
            "text/plain": [
              "<Figure size 432x288 with 1 Axes>"
            ]
          },
          "metadata": {
            "tags": [],
            "needs_background": "light"
          }
        },
        {
          "output_type": "stream",
          "text": [
            "time: 4.05 s (started: 2021-06-24 13:03:29 +00:00)\n"
          ],
          "name": "stdout"
        }
      ]
    },
    {
      "cell_type": "code",
      "metadata": {
        "id": "cBcPFyOq3FxJ"
      },
      "source": [
        ""
      ],
      "execution_count": 27,
      "outputs": []
    }
  ]
}